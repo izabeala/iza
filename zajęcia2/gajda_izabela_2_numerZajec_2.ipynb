{
  "nbformat": 4,
  "nbformat_minor": 0,
  "metadata": {
    "colab": {
      "provenance": []
    },
    "kernelspec": {
      "name": "python3",
      "display_name": "Python 3"
    },
    "language_info": {
      "name": "python"
    }
  },
  "cells": [
    {
      "cell_type": "code",
      "execution_count": 3,
      "metadata": {
        "colab": {
          "base_uri": "https://localhost:8080/",
          "height": 35
        },
        "id": "6auQizC3ZNR_",
        "outputId": "68fbb7b2-e6ab-4211-f026-d78ec9b6299a"
      },
      "outputs": [
        {
          "output_type": "execute_result",
          "data": {
            "text/plain": [
              "'ęcia z pro'"
            ],
            "application/vnd.google.colaboratory.intrinsic+json": {
              "type": "string"
            }
          },
          "metadata": {},
          "execution_count": 3
        }
      ],
      "source": [
        "zmienna_1 = \"Uwielbiam zajęcia z programowania\"\n",
        "zmienna_1 [13:23]"
      ]
    },
    {
      "cell_type": "code",
      "source": [
        "print (zmienna_1 [-40:])"
      ],
      "metadata": {
        "colab": {
          "base_uri": "https://localhost:8080/"
        },
        "id": "FUayzpO0d6uo",
        "outputId": "4a1bd699-6055-4f51-d0d4-d605b4d195d6"
      },
      "execution_count": 4,
      "outputs": [
        {
          "output_type": "stream",
          "name": "stdout",
          "text": [
            "Uwielbiam zajęcia z programowania\n"
          ]
        }
      ]
    },
    {
      "cell_type": "code",
      "source": [
        "print (zmienna_1[1:40:3])"
      ],
      "metadata": {
        "colab": {
          "base_uri": "https://localhost:8080/"
        },
        "id": "EFVqegdefH0X",
        "outputId": "d6e51b07-9295-40df-980a-be68cb6bfcde"
      },
      "execution_count": 5,
      "outputs": [
        {
          "output_type": "stream",
          "name": "stdout",
          "text": [
            "wlazęa oawi\n"
          ]
        }
      ]
    },
    {
      "cell_type": "code",
      "source": [
        "zmienna_2 = \"Czarny to mój ulubiony kolor, niestety, kolor czarny bardzo szybko spiera się z moich ubrań\"\n",
        "zmienna_2.istitle()"
      ],
      "metadata": {
        "colab": {
          "base_uri": "https://localhost:8080/"
        },
        "id": "yvehDfNYgNV7",
        "outputId": "3487b02c-28ae-45ac-ff1e-32f22a6f1b84"
      },
      "execution_count": 8,
      "outputs": [
        {
          "output_type": "execute_result",
          "data": {
            "text/plain": [
              "False"
            ]
          },
          "metadata": {},
          "execution_count": 8
        }
      ]
    },
    {
      "cell_type": "code",
      "source": [
        "zmienna_2.startswith(\"C\")"
      ],
      "metadata": {
        "colab": {
          "base_uri": "https://localhost:8080/"
        },
        "id": "XupbKlL3hxI0",
        "outputId": "b87a0f6a-bfd0-49e1-bd33-b1fbd0b2eb7a"
      },
      "execution_count": 10,
      "outputs": [
        {
          "output_type": "execute_result",
          "data": {
            "text/plain": [
              "True"
            ]
          },
          "metadata": {},
          "execution_count": 10
        }
      ]
    },
    {
      "cell_type": "code",
      "source": [
        "zmienna_2 = zmienna_2.lower()\n",
        "zmienna_2 = zmienna_2.replace(\"czarny\", \"niebieski\")\n",
        "zmienna_2 = zmienna_2.capitalize()\n",
        "print(zmienna_2)"
      ],
      "metadata": {
        "colab": {
          "base_uri": "https://localhost:8080/"
        },
        "id": "J8cwSrx8iM5d",
        "outputId": "afcb1b16-0f26-4bd4-a1ce-dce017ed3dbd"
      },
      "execution_count": 11,
      "outputs": [
        {
          "output_type": "stream",
          "name": "stdout",
          "text": [
            "Niebieski to mój ulubiony kolor, niestety, kolor niebieski bardzo szybko spiera się z moich ubrań\n"
          ]
        }
      ]
    }
  ]
}