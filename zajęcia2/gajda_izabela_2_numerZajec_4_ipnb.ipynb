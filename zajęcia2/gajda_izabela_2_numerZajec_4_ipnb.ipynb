{
  "nbformat": 4,
  "nbformat_minor": 0,
  "metadata": {
    "colab": {
      "provenance": []
    },
    "kernelspec": {
      "name": "python3",
      "display_name": "Python 3"
    },
    "language_info": {
      "name": "python"
    }
  },
  "cells": [
    {
      "cell_type": "code",
      "execution_count": null,
      "metadata": {
        "colab": {
          "base_uri": "https://localhost:8080/"
        },
        "id": "Ai89_L1rmrdk",
        "outputId": "5d357f6b-9aa6-40e5-9131-5580af5fe050"
      },
      "outputs": [
        {
          "output_type": "stream",
          "name": "stdout",
          "text": [
            "Podaj liczbę rzędów: 9\n",
            "\n",
            "\n",
            "1\n",
            "12\n",
            "123\n",
            "1234\n",
            "12345\n",
            "123456\n",
            "1234567\n",
            "12345678\n"
          ]
        }
      ],
      "source": [
        "n = int(input (\"Podaj liczbę rzędów: \"))\n",
        "for i in range (0, n + 1 ):\n",
        "  for j in range(1, i):\n",
        "    print(j, end=\"\")\n",
        "  print()\n",
        "  #1"
      ]
    },
    {
      "cell_type": "code",
      "source": [
        "n = int(input(\"Podaj liczbę rzędów: \"))\n",
        "for i in range(1, n + 1):\n",
        "  print(\"*\"*i)\n",
        "\n",
        "for i in range (n-1, 0, -1):\n",
        "  print(\"*\"*i)\n",
        "#2"
      ],
      "metadata": {
        "colab": {
          "base_uri": "https://localhost:8080/"
        },
        "id": "yLVztiYV_c8T",
        "outputId": "7d7085bd-d37c-4840-fa11-db395c0e7ad3"
      },
      "execution_count": null,
      "outputs": [
        {
          "output_type": "stream",
          "name": "stdout",
          "text": [
            "Podaj liczbę rzędów: 5\n",
            "*\n",
            "**\n",
            "***\n",
            "****\n",
            "*****\n",
            "****\n",
            "***\n",
            "**\n",
            "*\n"
          ]
        }
      ]
    },
    {
      "cell_type": "code",
      "source": [
        "lista = [6, 2, 3, 7, 1, 12, 56, 99]\n",
        "\n",
        "for i in range(len(lista)):\n",
        "  if 10 <= lista[i] < 100:\n",
        "    lista[i] = str(lista[i])\n",
        "\n",
        "print(lista)\n",
        "\n",
        "#3"
      ],
      "metadata": {
        "id": "v-574ePjwKTU",
        "colab": {
          "base_uri": "https://localhost:8080/"
        },
        "outputId": "3023b392-1015-4087-c1ef-72f6fef4ee38"
      },
      "execution_count": 4,
      "outputs": [
        {
          "output_type": "stream",
          "name": "stdout",
          "text": [
            "[6, 2, 3, 7, 1, '12', '56', '99']\n"
          ]
        }
      ]
    },
    {
      "cell_type": "code",
      "source": [
        "lista = [6, 2, 3, 7, 1, 12, 56, 99]\n",
        "\n",
        "najmniejsza_wartość = lista[0]\n",
        "\n",
        "for liczba in lista:\n",
        "  if liczba < najmniejsza_wartość:\n",
        "     najmniejsza_wartość = liczba\n",
        "\n",
        "print(najmniejsza_wartość)\n",
        "\n",
        "#3"
      ],
      "metadata": {
        "colab": {
          "base_uri": "https://localhost:8080/"
        },
        "id": "X7JL2UGEKzeh",
        "outputId": "006288f2-cbc3-4c4d-8d94-4cf39a3750ca"
      },
      "execution_count": 19,
      "outputs": [
        {
          "output_type": "stream",
          "name": "stdout",
          "text": [
            "1\n"
          ]
        }
      ]
    }
  ]
}