{
  "nbformat": 4,
  "nbformat_minor": 0,
  "metadata": {
    "colab": {
      "provenance": []
    },
    "kernelspec": {
      "name": "python3",
      "display_name": "Python 3"
    },
    "language_info": {
      "name": "python"
    }
  },
  "cells": [
    {
      "cell_type": "code",
      "execution_count": null,
      "metadata": {
        "id": "0t0K08Mgvqf_"
      },
      "outputs": [],
      "source": [
        "imie = input (\"Podaj imię\")\n",
        "\n",
        "nazwisko = input (\"Podaj nazwisko\")\n",
        "\n",
        "wiek = input (\"Podaj wiek\")\n",
        "\n",
        "hasło = input (\"Wpisz hasło\")\n",
        "\n",
        "hasło2 = input (\"Powtórz hasło\")\n",
        "if hasło != hasło2\n",
        "  print (\"Wprowadzono błędne hasło\")\n",
        "\n",
        "print (\"Imię:\", imie)\n",
        "print (\"Nazwisko:\", nazwisko)\n",
        "print (\"Wiek:\", wiek)\n",
        "print (\"Hasło:\", hasło)\n",
        "print (\"Powtórzenie hasła:\", hasło2)\n",
        "#zadanie1"
      ]
    },
    {
      "cell_type": "code",
      "source": [
        "pierwsza_liczba = int(input(\"Podaj pierwszą liczbę:\"))\n",
        "\n",
        "druga_liczba = int(input(\"Podaj drugą liczbę:\"))\n",
        "\n",
        "działanie = input \"Jakie działanie chcesz wykonać?\"\n",
        "if działanie == \"+\":\n",
        "  print(\"wynik:\", pierwsza_liczba + druga_liczba)\n",
        "elif działanie == \"-\":\n",
        "  print(\"wynik:\", pierwsza_liczba - druga_liczba)\n",
        "elif działanie == \"*\":\n",
        "  print(\"wynik:\", pierwsza_liczba * druga_liczba)\n",
        "elif działanie == \"/\":\n",
        "  if druga_liczba == 0:\n",
        "    print(\"NIe można podzielić przez 0\")\n",
        "  else:\n",
        "    print(\"wynik:\", pierwsza_liczba / druga_liczba)"
      ],
      "metadata": {
        "id": "se0GCRzG5no8"
      },
      "execution_count": null,
      "outputs": []
    }
  ]
}